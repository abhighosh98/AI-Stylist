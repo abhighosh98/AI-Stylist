{
 "cells": [
  {
   "cell_type": "code",
   "execution_count": 71,
   "metadata": {},
   "outputs": [],
   "source": [
    "import pandas as pd\n",
    "import numpy as np\n",
    "import os\n",
    "import json\n",
    "from sklearn.preprocessing import LabelEncoder\n",
    "import xgboost as xgb\n",
    "import pickle\n",
    "import matplotlib.pyplot as plt\n",
    "from tensorflow.keras.models import load_model\n",
    "%matplotlib inline"
   ]
  },
  {
   "cell_type": "code",
   "execution_count": 72,
   "metadata": {},
   "outputs": [],
   "source": [
    "# Loading all 4 trained models\n",
    "saved_objects = 'saved_objects'\n",
    "xgb_color_names = xgb.XGBRegressor()\n",
    "xgb_color_names.load_model(os.path.join(saved_objects, \"xgb_color_names.json\"))\n",
    "\n",
    "# xgb_rgb = xgb.XGBRegressor()\n",
    "# xgb_rgb.load_model(os.path.join(saved_objects, \"xgb_rgb.json\"))\n",
    "\n",
    "# ann_color_names = load_model(os.path.join(saved_objects, 'ann_color_names.h5'))\n",
    "\n",
    "# ann_rgb = load_model(os.path.join(saved_objects , 'ann_rgb.h5'))\n",
    "\n",
    "# Loading thresh and lists\n",
    "with open (os.path.join(saved_objects, 'final_thresh_xgb_color_names'), 'rb') as fp:\n",
    "    final_thresh_xgb_color_names = pickle.load(fp)\n",
    "    \n",
    "with open (os.path.join(saved_objects, 'final_thresh_xgb_rgb'), 'rb') as fp:\n",
    "    final_thresh_xgb_rgb = pickle.load(fp)\n",
    "    \n",
    "with open (os.path.join(saved_objects, 'final_thresh_ann_color_names'), 'rb') as fp:\n",
    "    final_thresh_ann_color_names = pickle.load(fp)\n",
    "    \n",
    "with open (os.path.join(saved_objects, 'final_thresh_ann_rgb'), 'rb') as fp:\n",
    "    final_thresh_ann_rgb = pickle.load(fp)\n",
    "    \n",
    "with open (os.path.join(saved_objects, 'label_encoder_list'), 'rb') as fp:\n",
    "    label_encoder_list = pickle.load(fp)\n",
    "le = LabelEncoder()\n",
    "le = le.fit(label_encoder_list)\n",
    "\n",
    "with open (os.path.join(saved_objects, 'final_clothing_label_list'), 'rb') as fp:\n",
    "    final_clothing_label_list = pickle.load(fp)\n",
    "le_clothing = LabelEncoder()\n",
    "le_clothing = le_clothing.fit(final_clothing_label_list)\n",
    "\n",
    "with open (os.path.join(saved_objects, 'list_of_labels_for_application'), 'rb') as fp:\n",
    "    list_of_labels_for_application = pickle.load(fp)"
   ]
  },
  {
   "cell_type": "code",
   "execution_count": 73,
   "metadata": {},
   "outputs": [
    {
     "data": {
      "text/plain": [
       "['Shoe',\n",
       " 'Coat',\n",
       " 'Dress',\n",
       " 'Skirt',\n",
       " 'Tank top',\n",
       " 'NA',\n",
       " 'T-shirt',\n",
       " 'Heels',\n",
       " 'Shirt',\n",
       " 'Shorts',\n",
       " 'Jeans']"
      ]
     },
     "execution_count": 73,
     "metadata": {},
     "output_type": "execute_result"
    }
   ],
   "source": [
    "final_clothing_label_list"
   ]
  },
  {
   "cell_type": "code",
   "execution_count": 74,
   "metadata": {},
   "outputs": [
    {
     "data": {
      "text/plain": [
       "['gray',\n",
       " 'orange',\n",
       " 'whitesmoke',\n",
       " 'olive',\n",
       " 'teal',\n",
       " 'green',\n",
       " 'firebrick',\n",
       " 'gainsboro',\n",
       " 'red',\n",
       " 'black',\n",
       " 'darkgray',\n",
       " 'blue',\n",
       " 'yellow',\n",
       " 'lightgray',\n",
       " 'white',\n",
       " 'maroon',\n",
       " 'navy',\n",
       " 'silver',\n",
       " 'no color']"
      ]
     },
     "execution_count": 74,
     "metadata": {},
     "output_type": "execute_result"
    }
   ],
   "source": [
    "label_encoder_list"
   ]
  },
  {
   "cell_type": "code",
   "execution_count": 75,
   "metadata": {},
   "outputs": [
    {
     "data": {
      "text/html": [
       "<div>\n",
       "<style scoped>\n",
       "    .dataframe tbody tr th:only-of-type {\n",
       "        vertical-align: middle;\n",
       "    }\n",
       "\n",
       "    .dataframe tbody tr th {\n",
       "        vertical-align: top;\n",
       "    }\n",
       "\n",
       "    .dataframe thead th {\n",
       "        text-align: right;\n",
       "    }\n",
       "</style>\n",
       "<table border=\"1\" class=\"dataframe\">\n",
       "  <thead>\n",
       "    <tr style=\"text-align: right;\">\n",
       "      <th></th>\n",
       "      <th>overall</th>\n",
       "      <th>up</th>\n",
       "      <th>down</th>\n",
       "      <th>foot</th>\n",
       "      <th>overall_item</th>\n",
       "      <th>up_item</th>\n",
       "      <th>down_item</th>\n",
       "      <th>foot_item</th>\n",
       "    </tr>\n",
       "  </thead>\n",
       "  <tbody>\n",
       "    <tr>\n",
       "      <th>0</th>\n",
       "      <td>10</td>\n",
       "      <td>1</td>\n",
       "      <td>15</td>\n",
       "      <td>15</td>\n",
       "      <td>4</td>\n",
       "      <td>9</td>\n",
       "      <td>3</td>\n",
       "      <td>6</td>\n",
       "    </tr>\n",
       "  </tbody>\n",
       "</table>\n",
       "</div>"
      ],
      "text/plain": [
       "   overall  up  down  foot  overall_item  up_item  down_item  foot_item\n",
       "0       10   1    15    15             4        9          3          6"
      ]
     },
     "execution_count": 75,
     "metadata": {},
     "output_type": "execute_result"
    }
   ],
   "source": [
    "color_names_example_dict = {'overall' : 'no color',\n",
    "                         'up' : 'blue',\n",
    "                         'down' : 'teal',\n",
    "                         'foot' : 'teal',\n",
    "                           'overall_item' : 'NA',\n",
    "                           'up_item' : 'T-shirt',\n",
    "                           'down_item' : 'Jeans',\n",
    "                           'foot_item' : 'Shoe'}\n",
    "color_name_example_df = pd.DataFrame(color_names_example_dict,\n",
    "                                    index = [0])\n",
    "color_name_example_df['overall'] = le.transform(color_name_example_df['overall'])\n",
    "color_name_example_df['up'] = le.transform(color_name_example_df['up'])\n",
    "color_name_example_df['down'] = le.transform(color_name_example_df['down'])\n",
    "color_name_example_df['foot'] = le.transform(color_name_example_df['foot'])\n",
    "\n",
    "color_name_example_df['overall_item'] = le_clothing.transform(color_name_example_df['overall_item'])\n",
    "color_name_example_df['up_item'] = le_clothing.transform(color_name_example_df['up_item'])\n",
    "color_name_example_df['down_item'] = le_clothing.transform(color_name_example_df['down_item'])\n",
    "color_name_example_df['foot_item'] = le_clothing.transform(color_name_example_df['foot_item'])\n",
    "color_name_example_df"
   ]
  },
  {
   "cell_type": "code",
   "execution_count": 66,
   "metadata": {},
   "outputs": [
    {
     "data": {
      "text/plain": [
       "array([0.30832687], dtype=float32)"
      ]
     },
     "execution_count": 66,
     "metadata": {},
     "output_type": "execute_result"
    }
   ],
   "source": [
    "xgb_color_names.predict(color_name_example_df)"
   ]
  },
  {
   "cell_type": "code",
   "execution_count": 67,
   "metadata": {},
   "outputs": [
    {
     "data": {
      "image/png": "[encoded data removed]",
      "text/plain": [
       "<Figure size 432x288 with 1 Axes>"
      ]
     },
     "metadata": {
      "needs_background": "light"
     },
     "output_type": "display_data"
    }
   ],
   "source": [
    "plt.bar(range(len(xgb_color_names.feature_importances_)), xgb_color_names.feature_importances_)\n",
    "plt.show()"
   ]
  },
  {
   "cell_type": "code",
   "execution_count": null,
   "metadata": {},
   "outputs": [],
   "source": []
  },
  {
   "cell_type": "code",
   "execution_count": 121,
   "metadata": {},
   "outputs": [],
   "source": [
    "new_data = {\n",
    "\"up_color\":[],\n",
    "\"up_clothing_items\":[],\n",
    "\"overall_color\":[],\n",
    "\"overall_gcs_links\":[],\n",
    "\"down_color\":[],\n",
    "\"foot_clothing_items\":[],\n",
    "\"foot_color\":[],\n",
    "\"overall_clothing_items\":[],\n",
    "\"password\":\"asdf\",\n",
    "\"username\":\"new_user\",\n",
    "\"foot_gcs_links\":[],\n",
    "\"down_gcs_links\":[],\n",
    "\"down_clothing_items\":[],\n",
    "\"up_gcs_links\":[]\n",
    "}"
   ]
  },
  {
   "cell_type": "code",
   "execution_count": 18,
   "metadata": {},
   "outputs": [
    {
     "data": {
      "text/plain": [
       "['https://storage.cloud.google.com/dsci551_storage/test_images/DqhtdIlTH9ixO2O.png',\n",
       " 'https://storage.cloud.google.com/dsci551_storage/test_images/UZ6LtGu44LhNb4A.png',\n",
       " 'https://storage.cloud.google.com/dsci551_storage/test_images/H42oj4nOClOYr5l.png',\n",
       " 'https://storage.cloud.google.com/dsci551_storage/test_images/xLzfqAZe7Sl9Pqi.png']"
      ]
     },
     "execution_count": 18,
     "metadata": {},
     "output_type": "execute_result"
    }
   ],
   "source": [
    "items_image_links = username_related_data['overall_gcs_links'] + username_related_data['up_gcs_links'] + username_related_data['down_gcs_links'] + username_related_data['foot_gcs_links']\n",
    "items_image_links = ['https://storage.cloud.google.com/dsci551_storage/' + x for x in items_image_links if type(x) != float]\n",
    "items_image_links"
   ]
  },
  {
   "cell_type": "code",
   "execution_count": 147,
   "metadata": {},
   "outputs": [],
   "source": [
    "username_related_data = {'overall_gcs_links': ['.jpg', np.nan],\n",
    " 'username': 'rohit',\n",
    " 'down_gcs_links': ['test_images/H42oj4nOClOYr5l.png', np.nan],\n",
    " 'foot_clothing_items': ['Shoe', np.nan],\n",
    " 'password': 'asdf',\n",
    " 'up_color': ['black', 'black'],\n",
    " 'overall_color': ['black', np.nan],\n",
    " 'foot_color': ['red', np.nan],\n",
    " 'foot_gcs_links': ['test_images/xLzfqAZe7Sl9Pqi.png', np.nan],\n",
    " 'up_gcs_links': ['test_images/DqhtdIlTH9ixO2O.png',\n",
    "  'test_images/UZ6LtGu44LhNb4A.png'],\n",
    " 'down_clothing_items': ['Jeans', np.nan],\n",
    " 'up_clothing_items': ['T-shirt', 'T-shirt'],\n",
    " 'overall_clothing_items': ['Coat', np.nan],\n",
    " 'down_color': ['blue', np.nan]}"
   ]
  },
  {
   "cell_type": "code",
   "execution_count": 148,
   "metadata": {},
   "outputs": [
    {
     "data": {
      "text/html": [
       "<div>\n",
       "<style scoped>\n",
       "    .dataframe tbody tr th:only-of-type {\n",
       "        vertical-align: middle;\n",
       "    }\n",
       "\n",
       "    .dataframe tbody tr th {\n",
       "        vertical-align: top;\n",
       "    }\n",
       "\n",
       "    .dataframe thead th {\n",
       "        text-align: right;\n",
       "    }\n",
       "</style>\n",
       "<table border=\"1\" class=\"dataframe\">\n",
       "  <thead>\n",
       "    <tr style=\"text-align: right;\">\n",
       "      <th></th>\n",
       "      <th>overall_gcs_links</th>\n",
       "      <th>username</th>\n",
       "      <th>down_gcs_links</th>\n",
       "      <th>foot_clothing_items</th>\n",
       "      <th>password</th>\n",
       "      <th>up_color</th>\n",
       "      <th>overall_color</th>\n",
       "      <th>foot_color</th>\n",
       "      <th>foot_gcs_links</th>\n",
       "      <th>up_gcs_links</th>\n",
       "      <th>down_clothing_items</th>\n",
       "      <th>up_clothing_items</th>\n",
       "      <th>overall_clothing_items</th>\n",
       "      <th>down_color</th>\n",
       "    </tr>\n",
       "  </thead>\n",
       "  <tbody>\n",
       "    <tr>\n",
       "      <th>0</th>\n",
       "      <td>.jpg</td>\n",
       "      <td>rohit</td>\n",
       "      <td>test_images/H42oj4nOClOYr5l.png</td>\n",
       "      <td>Shoe</td>\n",
       "      <td>asdf</td>\n",
       "      <td>black</td>\n",
       "      <td>black</td>\n",
       "      <td>red</td>\n",
       "      <td>test_images/xLzfqAZe7Sl9Pqi.png</td>\n",
       "      <td>test_images/DqhtdIlTH9ixO2O.png</td>\n",
       "      <td>Jeans</td>\n",
       "      <td>T-shirt</td>\n",
       "      <td>Coat</td>\n",
       "      <td>blue</td>\n",
       "    </tr>\n",
       "    <tr>\n",
       "      <th>1</th>\n",
       "      <td>NaN</td>\n",
       "      <td>rohit</td>\n",
       "      <td>NaN</td>\n",
       "      <td>NaN</td>\n",
       "      <td>asdf</td>\n",
       "      <td>black</td>\n",
       "      <td>NaN</td>\n",
       "      <td>NaN</td>\n",
       "      <td>NaN</td>\n",
       "      <td>test_images/UZ6LtGu44LhNb4A.png</td>\n",
       "      <td>NaN</td>\n",
       "      <td>T-shirt</td>\n",
       "      <td>NaN</td>\n",
       "      <td>NaN</td>\n",
       "    </tr>\n",
       "  </tbody>\n",
       "</table>\n",
       "</div>"
      ],
      "text/plain": [
       "  overall_gcs_links username                   down_gcs_links  \\\n",
       "0              .jpg    rohit  test_images/H42oj4nOClOYr5l.png   \n",
       "1               NaN    rohit                              NaN   \n",
       "\n",
       "  foot_clothing_items password up_color overall_color foot_color  \\\n",
       "0                Shoe     asdf    black         black        red   \n",
       "1                 NaN     asdf    black           NaN        NaN   \n",
       "\n",
       "                    foot_gcs_links                     up_gcs_links  \\\n",
       "0  test_images/xLzfqAZe7Sl9Pqi.png  test_images/DqhtdIlTH9ixO2O.png   \n",
       "1                              NaN  test_images/UZ6LtGu44LhNb4A.png   \n",
       "\n",
       "  down_clothing_items up_clothing_items overall_clothing_items down_color  \n",
       "0               Jeans           T-shirt                   Coat       blue  \n",
       "1                 NaN           T-shirt                    NaN        NaN  "
      ]
     },
     "execution_count": 148,
     "metadata": {},
     "output_type": "execute_result"
    }
   ],
   "source": [
    "user_wardrobe_df = pd.DataFrame(username_related_data)\n",
    "# user_wardrobe_df = pd.DataFrame(new_data)\n",
    "user_wardrobe_df"
   ]
  },
  {
   "cell_type": "code",
   "execution_count": 149,
   "metadata": {},
   "outputs": [
    {
     "data": {
      "text/html": [
       "<div>\n",
       "<style scoped>\n",
       "    .dataframe tbody tr th:only-of-type {\n",
       "        vertical-align: middle;\n",
       "    }\n",
       "\n",
       "    .dataframe tbody tr th {\n",
       "        vertical-align: top;\n",
       "    }\n",
       "\n",
       "    .dataframe thead th {\n",
       "        text-align: right;\n",
       "    }\n",
       "</style>\n",
       "<table border=\"1\" class=\"dataframe\">\n",
       "  <thead>\n",
       "    <tr style=\"text-align: right;\">\n",
       "      <th></th>\n",
       "      <th>overall</th>\n",
       "      <th>up</th>\n",
       "      <th>down</th>\n",
       "      <th>foot</th>\n",
       "    </tr>\n",
       "  </thead>\n",
       "  <tbody>\n",
       "    <tr>\n",
       "      <th>0</th>\n",
       "      <td>.jpg,Coat,black</td>\n",
       "      <td>test_images/DqhtdIlTH9ixO2O.png,T-shirt,black</td>\n",
       "      <td>test_images/H42oj4nOClOYr5l.png,Jeans,blue</td>\n",
       "      <td>test_images/xLzfqAZe7Sl9Pqi.png,Shoe,red</td>\n",
       "    </tr>\n",
       "    <tr>\n",
       "      <th>1</th>\n",
       "      <td></td>\n",
       "      <td>test_images/UZ6LtGu44LhNb4A.png,T-shirt,black</td>\n",
       "      <td></td>\n",
       "      <td></td>\n",
       "    </tr>\n",
       "  </tbody>\n",
       "</table>\n",
       "</div>"
      ],
      "text/plain": [
       "           overall                                             up  \\\n",
       "0  .jpg,Coat,black  test_images/DqhtdIlTH9ixO2O.png,T-shirt,black   \n",
       "1                   test_images/UZ6LtGu44LhNb4A.png,T-shirt,black   \n",
       "\n",
       "                                         down  \\\n",
       "0  test_images/H42oj4nOClOYr5l.png,Jeans,blue   \n",
       "1                                               \n",
       "\n",
       "                                       foot  \n",
       "0  test_images/xLzfqAZe7Sl9Pqi.png,Shoe,red  \n",
       "1                                            "
      ]
     },
     "execution_count": 149,
     "metadata": {},
     "output_type": "execute_result"
    }
   ],
   "source": [
    "df_for_mixing_and_matching = pd.DataFrame([])\n",
    "gcs_links_columns = ['overall_gcs_links', 'up_gcs_links', 'down_gcs_links', 'foot_gcs_links']\n",
    "required_columns_for_model_prediction = ['overall_clothing_items', 'overall_color',\n",
    "'up_clothing_items', 'up_color',\n",
    "'down_clothing_items', 'down_color',\n",
    "'foot_clothing_items', 'foot_color',]\n",
    "appended_dfs_from_user_related_data = []\n",
    "\n",
    "for links_col, i in zip(gcs_links_columns, range(0, len(required_columns_for_model_prediction), 2)):\n",
    "    appended_dfs_from_user_related_data.append(pd.concat([user_wardrobe_df[links_col], user_wardrobe_df[required_columns_for_model_prediction[i]], user_wardrobe_df[required_columns_for_model_prediction[i + 1]]], axis = 1).apply(\n",
    "    lambda x: ','.join(x.dropna().astype(str)),\n",
    "    axis=1\n",
    "))\n",
    "mix_n_match_df = pd.concat([appended_dfs_from_user_related_data[0], appended_dfs_from_user_related_data[1],\n",
    "          appended_dfs_from_user_related_data[2], appended_dfs_from_user_related_data[3]], axis = 1)\n",
    "mix_n_match_df.columns = ['overall', 'up', 'down', 'foot']\n",
    "# mix_n_match_df.replace('', np.nan, inplace = True)\n",
    "mix_n_match_df"
   ]
  },
  {
   "cell_type": "code",
   "execution_count": 150,
   "metadata": {},
   "outputs": [
    {
     "data": {
      "text/html": [
       "<div>\n",
       "<style scoped>\n",
       "    .dataframe tbody tr th:only-of-type {\n",
       "        vertical-align: middle;\n",
       "    }\n",
       "\n",
       "    .dataframe tbody tr th {\n",
       "        vertical-align: top;\n",
       "    }\n",
       "\n",
       "    .dataframe thead th {\n",
       "        text-align: right;\n",
       "    }\n",
       "</style>\n",
       "<table border=\"1\" class=\"dataframe\">\n",
       "  <thead>\n",
       "    <tr style=\"text-align: right;\">\n",
       "      <th></th>\n",
       "      <th>overall</th>\n",
       "      <th>up</th>\n",
       "      <th>down</th>\n",
       "      <th>foot</th>\n",
       "    </tr>\n",
       "  </thead>\n",
       "  <tbody>\n",
       "    <tr>\n",
       "      <th>0</th>\n",
       "      <td>.jpg,Coat,black</td>\n",
       "      <td>test_images/DqhtdIlTH9ixO2O.png,T-shirt,black</td>\n",
       "      <td>test_images/H42oj4nOClOYr5l.png,Jeans,blue</td>\n",
       "      <td>test_images/xLzfqAZe7Sl9Pqi.png,Shoe,red</td>\n",
       "    </tr>\n",
       "    <tr>\n",
       "      <th>4</th>\n",
       "      <td>.jpg,Coat,black</td>\n",
       "      <td>test_images/UZ6LtGu44LhNb4A.png,T-shirt,black</td>\n",
       "      <td>test_images/H42oj4nOClOYr5l.png,Jeans,blue</td>\n",
       "      <td>test_images/xLzfqAZe7Sl9Pqi.png,Shoe,red</td>\n",
       "    </tr>\n",
       "  </tbody>\n",
       "</table>\n",
       "</div>"
      ],
      "text/plain": [
       "           overall                                             up  \\\n",
       "0  .jpg,Coat,black  test_images/DqhtdIlTH9ixO2O.png,T-shirt,black   \n",
       "4  .jpg,Coat,black  test_images/UZ6LtGu44LhNb4A.png,T-shirt,black   \n",
       "\n",
       "                                         down  \\\n",
       "0  test_images/H42oj4nOClOYr5l.png,Jeans,blue   \n",
       "4  test_images/H42oj4nOClOYr5l.png,Jeans,blue   \n",
       "\n",
       "                                       foot  \n",
       "0  test_images/xLzfqAZe7Sl9Pqi.png,Shoe,red  \n",
       "4  test_images/xLzfqAZe7Sl9Pqi.png,Shoe,red  "
      ]
     },
     "execution_count": 150,
     "metadata": {},
     "output_type": "execute_result"
    }
   ],
   "source": [
    "import itertools\n",
    "permuted_df = pd.DataFrame([e for e in itertools.product(mix_n_match_df.overall, mix_n_match_df.up,\n",
    "                                          mix_n_match_df.down, mix_n_match_df.foot,)], \n",
    "             columns = mix_n_match_df.columns)\n",
    "permuted_df = permuted_df.drop(index = permuted_df[permuted_df.duplicated()].index)\n",
    "permuted_df.replace(\"\", np.nan, inplace = True)\n",
    "permuted_df.dropna(inplace = True)\n",
    "# permuted_df = permuted_df.applymap(lambda x: 'no link,NA,no color' if x == '' else x)\n",
    "# permuted_df.fillna(value = 'no link,NA,no color')\n",
    "permuted_df"
   ]
  },
  {
   "cell_type": "code",
   "execution_count": 153,
   "metadata": {},
   "outputs": [
    {
     "data": {
      "text/html": [
       "<div>\n",
       "<style scoped>\n",
       "    .dataframe tbody tr th:only-of-type {\n",
       "        vertical-align: middle;\n",
       "    }\n",
       "\n",
       "    .dataframe tbody tr th {\n",
       "        vertical-align: top;\n",
       "    }\n",
       "\n",
       "    .dataframe thead th {\n",
       "        text-align: right;\n",
       "    }\n",
       "</style>\n",
       "<table border=\"1\" class=\"dataframe\">\n",
       "  <thead>\n",
       "    <tr style=\"text-align: right;\">\n",
       "      <th></th>\n",
       "      <th>overall_gcs_links</th>\n",
       "      <th>overall_item</th>\n",
       "      <th>overall_color</th>\n",
       "      <th>up_gcs_links</th>\n",
       "      <th>up_item</th>\n",
       "      <th>up_color</th>\n",
       "      <th>down_gcs_links</th>\n",
       "      <th>down_item</th>\n",
       "      <th>down_color</th>\n",
       "      <th>foot_gcs_links</th>\n",
       "      <th>foot_item</th>\n",
       "      <th>foot_color</th>\n",
       "    </tr>\n",
       "  </thead>\n",
       "  <tbody>\n",
       "    <tr>\n",
       "      <th>0</th>\n",
       "      <td>.jpg</td>\n",
       "      <td>Coat</td>\n",
       "      <td>black</td>\n",
       "      <td>test_images/DqhtdIlTH9ixO2O.png</td>\n",
       "      <td>T-shirt</td>\n",
       "      <td>black</td>\n",
       "      <td>test_images/H42oj4nOClOYr5l.png</td>\n",
       "      <td>Jeans</td>\n",
       "      <td>blue</td>\n",
       "      <td>test_images/xLzfqAZe7Sl9Pqi.png</td>\n",
       "      <td>Shoe</td>\n",
       "      <td>red</td>\n",
       "    </tr>\n",
       "    <tr>\n",
       "      <th>4</th>\n",
       "      <td>.jpg</td>\n",
       "      <td>Coat</td>\n",
       "      <td>black</td>\n",
       "      <td>test_images/UZ6LtGu44LhNb4A.png</td>\n",
       "      <td>T-shirt</td>\n",
       "      <td>black</td>\n",
       "      <td>test_images/H42oj4nOClOYr5l.png</td>\n",
       "      <td>Jeans</td>\n",
       "      <td>blue</td>\n",
       "      <td>test_images/xLzfqAZe7Sl9Pqi.png</td>\n",
       "      <td>Shoe</td>\n",
       "      <td>red</td>\n",
       "    </tr>\n",
       "  </tbody>\n",
       "</table>\n",
       "</div>"
      ],
      "text/plain": [
       "  overall_gcs_links overall_item overall_color  \\\n",
       "0              .jpg         Coat         black   \n",
       "4              .jpg         Coat         black   \n",
       "\n",
       "                      up_gcs_links  up_item up_color  \\\n",
       "0  test_images/DqhtdIlTH9ixO2O.png  T-shirt    black   \n",
       "4  test_images/UZ6LtGu44LhNb4A.png  T-shirt    black   \n",
       "\n",
       "                    down_gcs_links down_item down_color  \\\n",
       "0  test_images/H42oj4nOClOYr5l.png     Jeans       blue   \n",
       "4  test_images/H42oj4nOClOYr5l.png     Jeans       blue   \n",
       "\n",
       "                    foot_gcs_links foot_item foot_color  \n",
       "0  test_images/xLzfqAZe7Sl9Pqi.png      Shoe        red  \n",
       "4  test_images/xLzfqAZe7Sl9Pqi.png      Shoe        red  "
      ]
     },
     "execution_count": 153,
     "metadata": {},
     "output_type": "execute_result"
    }
   ],
   "source": [
    "prediction_and_link_df = pd.DataFrame([])\n",
    "for col in permuted_df.columns:\n",
    "    temp_df = permuted_df[col].str.split(',', expand=True)\n",
    "    temp_df.columns = [col + '_gcs_links',\n",
    "                      col + '_item',\n",
    "                      col + '_color']\n",
    "    prediction_and_link_df = pd.concat([prediction_and_link_df, temp_df], axis = 1)\n",
    "\n",
    "prediction_and_link_df"
   ]
  },
  {
   "cell_type": "code",
   "execution_count": 152,
   "metadata": {},
   "outputs": [
    {
     "data": {
      "text/html": [
       "<div>\n",
       "<style scoped>\n",
       "    .dataframe tbody tr th:only-of-type {\n",
       "        vertical-align: middle;\n",
       "    }\n",
       "\n",
       "    .dataframe tbody tr th {\n",
       "        vertical-align: top;\n",
       "    }\n",
       "\n",
       "    .dataframe thead th {\n",
       "        text-align: right;\n",
       "    }\n",
       "</style>\n",
       "<table border=\"1\" class=\"dataframe\">\n",
       "  <thead>\n",
       "    <tr style=\"text-align: right;\">\n",
       "      <th></th>\n",
       "      <th>overall_color</th>\n",
       "      <th>up_color</th>\n",
       "      <th>down_color</th>\n",
       "      <th>foot_color</th>\n",
       "      <th>overall_item</th>\n",
       "      <th>up_item</th>\n",
       "      <th>down_item</th>\n",
       "      <th>foot_item</th>\n",
       "    </tr>\n",
       "  </thead>\n",
       "  <tbody>\n",
       "    <tr>\n",
       "      <th>0</th>\n",
       "      <td>0</td>\n",
       "      <td>0</td>\n",
       "      <td>1</td>\n",
       "      <td>13</td>\n",
       "      <td>0</td>\n",
       "      <td>9</td>\n",
       "      <td>3</td>\n",
       "      <td>6</td>\n",
       "    </tr>\n",
       "    <tr>\n",
       "      <th>4</th>\n",
       "      <td>0</td>\n",
       "      <td>0</td>\n",
       "      <td>1</td>\n",
       "      <td>13</td>\n",
       "      <td>0</td>\n",
       "      <td>9</td>\n",
       "      <td>3</td>\n",
       "      <td>6</td>\n",
       "    </tr>\n",
       "  </tbody>\n",
       "</table>\n",
       "</div>"
      ],
      "text/plain": [
       "   overall_color  up_color  down_color  foot_color  overall_item  up_item  \\\n",
       "0              0         0           1          13             0        9   \n",
       "4              0         0           1          13             0        9   \n",
       "\n",
       "   down_item  foot_item  \n",
       "0          3          6  \n",
       "4          3          6  "
      ]
     },
     "execution_count": 152,
     "metadata": {},
     "output_type": "execute_result"
    }
   ],
   "source": [
    "prediction_df = prediction_and_link_df[['overall_color', 'up_color', 'down_color', 'foot_color', \n",
    "                        'overall_item', 'up_item', 'down_item', 'foot_item']].copy()\n",
    "prediction_df['overall_color'] = le.transform(prediction_df['overall_color'])\n",
    "prediction_df['up_color'] = le.transform(prediction_df['up_color'])\n",
    "prediction_df['down_color'] = le.transform(prediction_df['down_color'])\n",
    "prediction_df['foot_color'] = le.transform(prediction_df['foot_color'])\n",
    "\n",
    "prediction_df['overall_item'] = le_clothing.transform(prediction_df['overall_item'])\n",
    "prediction_df['up_item'] = le_clothing.transform(prediction_df['up_item'])\n",
    "prediction_df['down_item'] = le_clothing.transform(prediction_df['down_item'])\n",
    "prediction_df['foot_item'] = le_clothing.transform(prediction_df['foot_item'])\n",
    "prediction_df"
   ]
  },
  {
   "cell_type": "code",
   "execution_count": 132,
   "metadata": {},
   "outputs": [
    {
     "data": {
      "text/plain": [
       "Int64Index([7, 1, 5], dtype='int64')"
      ]
     },
     "execution_count": 132,
     "metadata": {},
     "output_type": "execute_result"
    }
   ],
   "source": [
    "pd.DataFrame(xgb_color_names.predict(prediction_df)).sort_values(0).index[-3 : ]"
   ]
  },
  {
   "cell_type": "code",
   "execution_count": 133,
   "metadata": {},
   "outputs": [
    {
     "data": {
      "text/html": [
       "<div>\n",
       "<style scoped>\n",
       "    .dataframe tbody tr th:only-of-type {\n",
       "        vertical-align: middle;\n",
       "    }\n",
       "\n",
       "    .dataframe tbody tr th {\n",
       "        vertical-align: top;\n",
       "    }\n",
       "\n",
       "    .dataframe thead th {\n",
       "        text-align: right;\n",
       "    }\n",
       "</style>\n",
       "<table border=\"1\" class=\"dataframe\">\n",
       "  <thead>\n",
       "    <tr style=\"text-align: right;\">\n",
       "      <th></th>\n",
       "      <th>overall_gcs_links</th>\n",
       "      <th>up_gcs_links</th>\n",
       "      <th>down_gcs_links</th>\n",
       "      <th>foot_gcs_links</th>\n",
       "    </tr>\n",
       "  </thead>\n",
       "  <tbody>\n",
       "    <tr>\n",
       "      <th>0</th>\n",
       "      <td>no link</td>\n",
       "      <td>test_images/DqhtdIlTH9ixO2O.png</td>\n",
       "      <td>test_images/H42oj4nOClOYr5l.png</td>\n",
       "      <td>test_images/xLzfqAZe7Sl9Pqi.png</td>\n",
       "    </tr>\n",
       "    <tr>\n",
       "      <th>1</th>\n",
       "      <td>no link</td>\n",
       "      <td>test_images/DqhtdIlTH9ixO2O.png</td>\n",
       "      <td>test_images/H42oj4nOClOYr5l.png</td>\n",
       "      <td>no link</td>\n",
       "    </tr>\n",
       "    <tr>\n",
       "      <th>2</th>\n",
       "      <td>no link</td>\n",
       "      <td>test_images/DqhtdIlTH9ixO2O.png</td>\n",
       "      <td>no link</td>\n",
       "      <td>test_images/xLzfqAZe7Sl9Pqi.png</td>\n",
       "    </tr>\n",
       "    <tr>\n",
       "      <th>3</th>\n",
       "      <td>no link</td>\n",
       "      <td>test_images/DqhtdIlTH9ixO2O.png</td>\n",
       "      <td>no link</td>\n",
       "      <td>no link</td>\n",
       "    </tr>\n",
       "    <tr>\n",
       "      <th>4</th>\n",
       "      <td>no link</td>\n",
       "      <td>test_images/UZ6LtGu44LhNb4A.png</td>\n",
       "      <td>test_images/H42oj4nOClOYr5l.png</td>\n",
       "      <td>test_images/xLzfqAZe7Sl9Pqi.png</td>\n",
       "    </tr>\n",
       "    <tr>\n",
       "      <th>5</th>\n",
       "      <td>no link</td>\n",
       "      <td>test_images/UZ6LtGu44LhNb4A.png</td>\n",
       "      <td>test_images/H42oj4nOClOYr5l.png</td>\n",
       "      <td>no link</td>\n",
       "    </tr>\n",
       "    <tr>\n",
       "      <th>6</th>\n",
       "      <td>no link</td>\n",
       "      <td>test_images/UZ6LtGu44LhNb4A.png</td>\n",
       "      <td>no link</td>\n",
       "      <td>test_images/xLzfqAZe7Sl9Pqi.png</td>\n",
       "    </tr>\n",
       "    <tr>\n",
       "      <th>7</th>\n",
       "      <td>no link</td>\n",
       "      <td>test_images/UZ6LtGu44LhNb4A.png</td>\n",
       "      <td>no link</td>\n",
       "      <td>no link</td>\n",
       "    </tr>\n",
       "  </tbody>\n",
       "</table>\n",
       "</div>"
      ],
      "text/plain": [
       "  overall_gcs_links                     up_gcs_links  \\\n",
       "0           no link  test_images/DqhtdIlTH9ixO2O.png   \n",
       "1           no link  test_images/DqhtdIlTH9ixO2O.png   \n",
       "2           no link  test_images/DqhtdIlTH9ixO2O.png   \n",
       "3           no link  test_images/DqhtdIlTH9ixO2O.png   \n",
       "4           no link  test_images/UZ6LtGu44LhNb4A.png   \n",
       "5           no link  test_images/UZ6LtGu44LhNb4A.png   \n",
       "6           no link  test_images/UZ6LtGu44LhNb4A.png   \n",
       "7           no link  test_images/UZ6LtGu44LhNb4A.png   \n",
       "\n",
       "                    down_gcs_links                   foot_gcs_links  \n",
       "0  test_images/H42oj4nOClOYr5l.png  test_images/xLzfqAZe7Sl9Pqi.png  \n",
       "1  test_images/H42oj4nOClOYr5l.png                          no link  \n",
       "2                          no link  test_images/xLzfqAZe7Sl9Pqi.png  \n",
       "3                          no link                          no link  \n",
       "4  test_images/H42oj4nOClOYr5l.png  test_images/xLzfqAZe7Sl9Pqi.png  \n",
       "5  test_images/H42oj4nOClOYr5l.png                          no link  \n",
       "6                          no link  test_images/xLzfqAZe7Sl9Pqi.png  \n",
       "7                          no link                          no link  "
      ]
     },
     "execution_count": 133,
     "metadata": {},
     "output_type": "execute_result"
    }
   ],
   "source": [
    "gcs_links_df = prediction_and_link_df[gcs_links_columns]\n",
    "gcs_links_df"
   ]
  },
  {
   "cell_type": "code",
   "execution_count": 135,
   "metadata": {},
   "outputs": [
    {
     "data": {
      "text/plain": [
       "7"
      ]
     },
     "execution_count": 135,
     "metadata": {},
     "output_type": "execute_result"
    }
   ],
   "source": [
    "pd.DataFrame(xgb_color_names.predict(prediction_df)).sort_values(0).index[-3 : ]"
   ]
  },
  {
   "cell_type": "code",
   "execution_count": null,
   "metadata": {},
   "outputs": [],
   "source": []
  }
 ],
 "metadata": {
  "kernelspec": {
   "display_name": "Python 3",
   "language": "python",
   "name": "python3"
  },
  "language_info": {
   "codemirror_mode": {
    "name": "ipython",
    "version": 3
   },
   "file_extension": ".py",
   "mimetype": "text/x-python",
   "name": "python",
   "nbconvert_exporter": "python",
   "pygments_lexer": "ipython3",
   "version": "3.8.5"
  }
 },
 "nbformat": 4,
 "nbformat_minor": 4
}
