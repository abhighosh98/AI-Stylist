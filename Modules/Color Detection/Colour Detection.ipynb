{
 "cells": [
  {
   "cell_type": "code",
   "execution_count": 9,
   "metadata": {},
   "outputs": [],
   "source": [
    "import webcolors\n",
    "import cv2\n",
    "import os\n",
    "import io\n",
    "import numpy as np"
   ]
  },
  {
   "cell_type": "code",
   "execution_count": 11,
   "metadata": {},
   "outputs": [],
   "source": [
    "def closest_colour(requested_colour):\n",
    "    min_colours = {}\n",
    "    for key, name in webcolors.CSS2_HEX_TO_NAMES.items():\n",
    "        r_c, g_c, b_c = webcolors.hex_to_rgb(key)\n",
    "        rd = (r_c - requested_colour[0]) ** 2\n",
    "        gd = (g_c - requested_colour[1]) ** 2\n",
    "        bd = (b_c - requested_colour[2]) ** 2\n",
    "        min_colours[(rd + gd + bd)] = name\n",
    "    return min_colours[min(min_colours.keys())]\n",
    "\n",
    "def get_colour_name(requested_colour):\n",
    "    try:\n",
    "        closest_name = actual_name = webcolors.rgb_to_name(requested_colour)\n",
    "    except ValueError:\n",
    "        closest_name = closest_colour(requested_colour)\n",
    "        actual_name = None\n",
    "    return closest_name\n",
    "\n"
   ]
  },
  {
   "cell_type": "code",
   "execution_count": 16,
   "metadata": {},
   "outputs": [
    {
     "name": "stdout",
     "output_type": "stream",
     "text": [
      "Frame Captured\n",
      "white\n",
      "Frame Captured\n",
      "gray\n",
      "Frame Captured\n",
      "silver\n",
      "Frame Captured\n",
      "navy\n",
      "Frame Captured\n",
      "white\n",
      "Frame Captured\n",
      "silver\n",
      "Frame Captured\n",
      "black\n",
      "Frame Captured\n",
      "silver\n",
      "Frame Captured\n",
      "gray\n",
      "Frame Captured\n",
      "white\n",
      "Frame Captured\n",
      "red\n",
      "Escape hit, closing...\n"
     ]
    }
   ],
   "source": [
    "cam = cv2.VideoCapture(0)\n",
    "# cam.set(cv2.CAP_PROP_AUTO_EXPOSURE, 3) \n",
    "# Setting exposure to fixed value\n",
    "cam.set(cv2.CAP_PROP_EXPOSURE, 1)\n",
    "cv2.namedWindow(\"Capture Image of Clothing Item\")\n",
    "fgbg = cv2.createBackgroundSubtractorMOG2()\n",
    "main_color = ''\n",
    "while True:\n",
    "    ret, frame = cam.read()\n",
    "    cv2.putText(frame, \"Color = \" + main_color, \n",
    "                (220, 30), cv2.FONT_HERSHEY_SIMPLEX, \n",
    "                1, (0, 255, 255))\n",
    "    if not ret:\n",
    "        print(\"failed to grab frame\")\n",
    "        break\n",
    "    cv2.imshow(\"Capture Image of Clothing Item\", frame)\n",
    "\n",
    "    k = cv2.waitKey(1)\n",
    "    if k%256 == 27:\n",
    "        # ESC pressed\n",
    "        print(\"Escape hit, closing...\")\n",
    "        break\n",
    "    elif k%256 == 32:\n",
    "        # SPACE pressed\n",
    "        img_name = \"find_color_frame.png\"\n",
    "        cv2.imwrite(img_name, frame)\n",
    "        # Image captured for finding color\n",
    "        print(\"Frame Captured\")\n",
    "        \n",
    "        \n",
    "        temp_img = cv2.imread(\"find_color_frame.png\")\n",
    "        temp_img = cv2.cvtColor(temp_img, cv2.COLOR_BGR2RGB)\n",
    "        # Average color across image. Need to make this region specific\n",
    "        average = temp_img.mean(axis=0).mean(axis=0)\n",
    "        pixels = np.float32(temp_img.reshape(-1, 3))\n",
    "        # Top 5 colors\n",
    "        n_colors = 5\n",
    "        criteria = (cv2.TERM_CRITERIA_EPS + cv2.TERM_CRITERIA_MAX_ITER, 200, .1)\n",
    "        flags = cv2.KMEANS_RANDOM_CENTERS\n",
    "\n",
    "        _, labels, palette = cv2.kmeans(pixels, n_colors, None, criteria, 10, flags)\n",
    "        _, counts = np.unique(labels, return_counts=True)\n",
    "\n",
    "        # Finds most dominant color\n",
    "        dominant = palette[np.argmax(counts)].astype(int)\n",
    "        main_color = get_colour_name(dominant)\n",
    "        font = cv2.FONT_HERSHEY_SIMPLEX\n",
    "        print(main_color)\n",
    "\n",
    "\n",
    "cam.release()\n",
    "cv2.destroyAllWindows()"
   ]
  },
  {
   "cell_type": "code",
   "execution_count": null,
   "metadata": {},
   "outputs": [],
   "source": []
  }
 ],
 "metadata": {
  "kernelspec": {
   "display_name": "Python 3",
   "language": "python",
   "name": "python3"
  },
  "language_info": {
   "codemirror_mode": {
    "name": "ipython",
    "version": 3
   },
   "file_extension": ".py",
   "mimetype": "text/x-python",
   "name": "python",
   "nbconvert_exporter": "python",
   "pygments_lexer": "ipython3",
   "version": "3.8.5"
  }
 },
 "nbformat": 4,
 "nbformat_minor": 4
}
